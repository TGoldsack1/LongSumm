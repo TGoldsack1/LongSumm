{
 "cells": [
  {
   "cell_type": "markdown",
   "metadata": {},
   "source": [
    "# LongSumm Dataset Exploration\n",
    "***"
   ]
  },
  {
   "cell_type": "code",
   "execution_count": 1,
   "metadata": {},
   "outputs": [],
   "source": [
    "import os, json, re\n",
    "import pandas as pd\n",
    "import numpy as np\n",
    "import seaborn as sns\n",
    "import matplotlib.pyplot as plt"
   ]
  },
  {
   "cell_type": "code",
   "execution_count": 2,
   "metadata": {},
   "outputs": [
    {
     "name": "stdout",
     "output_type": "stream",
     "text": [
      "531\n"
     ]
    }
   ],
   "source": [
    "# Get JSON files\n",
    "data_dir = \"./abstractive_summaries/by_clusters/\"\n",
    "\n",
    "df = pd.DataFrame()\n",
    "\n",
    "count = 0\n",
    "for subdir in os.listdir(data_dir):\n",
    "    for json_fname in os.listdir(data_dir + subdir):\n",
    "        count += 1\n",
    "        with open(data_dir + subdir + \"/\" + json_fname) as json_file:\n",
    "            content = json.loads(json_file.read())\n",
    "            df = df.append(pd.json_normalize(content))\n",
    "\n",
    "print(count)"
   ]
  },
  {
   "cell_type": "code",
   "execution_count": 3,
   "metadata": {},
   "outputs": [
    {
     "data": {
      "text/plain": [
       "Index(['blog_id', 'summary', 'author_id', 'pdf_url', 'author_full_name',\n",
       "       'source_website', 'id'],\n",
       "      dtype='object')"
      ]
     },
     "execution_count": 3,
     "metadata": {},
     "output_type": "execute_result"
    }
   ],
   "source": [
    "# Check columns\n",
    "df.columns"
   ]
  },
  {
   "cell_type": "markdown",
   "metadata": {},
   "source": [
    "***\n",
    "## Summary details\n",
    "\n",
    "Compute statistics on the summaries themselves."
   ]
  },
  {
   "cell_type": "code",
   "execution_count": 4,
   "metadata": {},
   "outputs": [
    {
     "data": {
      "text/plain": [
       "count                                                   531\n",
       "unique                                                  531\n",
       "top       [We’ve reached the end of term again on The Mo...\n",
       "freq                                                      1\n",
       "Name: summary, dtype: object"
      ]
     },
     "execution_count": 4,
     "metadata": {},
     "output_type": "execute_result"
    }
   ],
   "source": [
    "df['summary'].describe()"
   ]
  },
  {
   "cell_type": "code",
   "execution_count": 5,
   "metadata": {},
   "outputs": [
    {
     "name": "stdout",
     "output_type": "stream",
     "text": [
      "Average length: 685.57, Min length: 3, Max length: 1437 \n"
     ]
    }
   ],
   "source": [
    "# Get statistics on summaries\n",
    "summaries = [\" \".join(summary) for summary in df['summary']]  # summaries as strings\n",
    "lens = [len(summary.split(\" \")) for summary in summaries]     # lengths of summaries\n",
    "average_len = np.mean(lens)                                   # average summary length\n",
    "min_idx = np.argmin(lens)                                     # index of smallest summary\n",
    "max_idx = np.argmax(lens)                                     # index of largest summary\n",
    "\n",
    "print('Average length: %.2f, Min length: %d, Max length: %d ' % \\\n",
    "      (average_len, lens[min_idx], lens[max_idx]))"
   ]
  },
  {
   "cell_type": "code",
   "execution_count": 6,
   "metadata": {},
   "outputs": [
    {
     "name": "stdout",
     "output_type": "stream",
     "text": [
      "! []( [url]\n"
     ]
    }
   ],
   "source": [
    "# Min length summary\n",
    "print(summaries[min_idx]) "
   ]
  },
  {
   "cell_type": "code",
   "execution_count": 7,
   "metadata": {},
   "outputs": [
    {
     "name": "stdout",
     "output_type": "stream",
     "text": [
      "Grand Pwning Unit: Accelerating microarchitectural attacks with the GPU Frigo et al., IEEE Security & Privacy  The general awareness of microarchitectural attacks is greatly increased since meltdown and spectre earlier this year. A lot of time and energy has been spent in defending against such attacks, with a threat model that assumes attacks originate from the CPU. Frigo et al. open up an entirely new can of worms – modern SoCs contain a variety of special purpose accelerator units, chief among which is the GPU. GPUs are everywhere these days. Unfortunately, the inclusion of these special-purpose units in the processor today appears to be guided by a basic security model that mainly governs access control, while entirely ignoring the threat of more advanced microarchitectural attacks. I’m sure you know where this is heading…  It turns out the accelerators can also be used to “accelerate” microarchitectural attacks. Once more we find ourselves in a situation with widespread vulnerabilities. The demonstration target in the paper is a mobile phone running on the ARM platform, with all known defences, including any applicable advanced research defences, employed. Using WebGL from JavaScript, Frigo et al. show how to go from e.g. an advert on a web page to a fully compromised browser in under two minutes. Our end-to-end attack, named GLitch, uses all these GPU primitives in orchestration to reliably compromise the browser on a mobile device using only microarchitectural attacks in under two minutes. In comparison, even on PCs, all previous Rowhammer attacks from JavaScript require not default configurations (such as reduced DRAMh refresh rates or huge pages) and often take such a long time that some researchers have questioned their practicality. If only I could flip a bit…  In Firefox, values stored in JavaScript ArrayObjects are 64 bits. The first 32 bits are used as a tag identifying the type of the object. When the tag value is below 0xffffff80 whole 64-bit work is considered as an IEEE-754 double, otherwise the last 32 bits are considered as a pointer to an object. (This strategy is known as NaN-boxing, encoding object pointers in IEEE-754 doubles as NaN values). So… if only we could flip bits within the first 25 bits of the tag, we could turn pointers into doubles, and vice-versa. The goal of the [GLitch] exploit is to obtain an arbitrary read/write primitive which can eventually lead to remote code execution. ArrayBuffers are the best fit to gain such a primitive since they provide the attacker with full control over their content. As a consequence, we want to create a reference to a fake ArrayBuffer whose data pointer we control. The GLitch exploit tool starts by storing a pointer to an inlined ArrayBuffer (header adjacent to data) in 1-to-0 bit-flip vulnerable location. Triggering a bit flip then turns this into a double that can be read, breaking ASLR (address space layout randomisation). Store a double in a 0-to-1 vulnerable cell in the ArrayBuffer, constructed in such a way that when a bit is flipped it becomes a pointer to a JSString, in turn pointing at the header (address obtained in step 1) for its immutable data. Read the value of the string to extract the content of the ArrayBuffer’s header. Create a header for a fake ArrayBuffer (using the header information obtained in step 2) within the leaked ArrayBuffer and craft a reference to it using the same double-to-pointer bit flip technique that we used for the JSString. Now we have the desired arbitrary read/write primitive. Here’s how long it takes for Glitch to break ASLR and compromise the browser on a Nexus 5:  On average, GLitch can break ASLR in only 27 seconds and fully compromise the browser remotely in 116s, making it the fastest known remote Rowhammer attack. So how does the GPU help us to flip bits (or just steal data in general using side-channel attacks)? Four attack primitives  We need to be able to either leak data (side-channel attacks) or corrupt data (e.g. Rowhammer attacks). A primary mechanism for leaking data using microarchitectural attacks is to time operations over resources shared with a victim process. The first attack primitive then is access to a high-resolution timer. There has been a bit of an arms race in CPU land with clever news ways of creating timers being devised and then blocked as best as possible. But the defences don’t take into account GPUs. There are two explicit timer sources within the OpenGL / WebGL world that will do the job, available when the EXT_DISJOINT_TIMER_QUERY extension is present. Both GPU and CPU operations can be timed directly using the primitives it provides. It’s also possible to craft your own timers using only standard (i.e., always available) WebGL2 functions: clientWaitSync and getSyncParameter. WebGL2 itself is not yet as widely supported as WebGL1 though. …in order to comply with the WebGL2 specification none of these functions can be disable. Also, due to the synchronous nature of these timers, we can use them to measure both CPU and GPU operations. Here we can see for example clear timing differences between cached and uncached data using the EXT_DISJOINT_TIMER_QUERY extension:  A second attack primitive is having access to resources shared with other process. By figuring out the caching structure within their GPU (Adreno 330), the authors were able to figure out the sequence of operations needed to effectively bypass the GPU caches and measure memory page accesses for memory pages shared with the rest of the system. Internally the GPU has two levels of caching, and two ways of accessing memory (by inputting vertices to vertex shaders, or by fetching textures within shaders). Texture fetching turned out to be the easiest to control, and section IV.B of the paper describes in detail how the authors deduced an efficient strategy to evict cache sets from the GPU. The third attack primitive is knowledge of the physical location of allocated memory addresses: a requirement in order to understand which rows to hammer in a rowhammer atttack. When a row of memory is accessed we can tell if it was already in the row buffer or not by measuring the time the operation takes (buffer hits are faster). To carry out a reliable Rowhammer attack, three adjacent rows within a DRAM bank are required. Distinguishing between row buffer hits and misses enables us to determine whether allocations are contiguous or non-contiguous. (Details are in section VII.D, and the appendix covers the relationship between adjacency and contiguity). The fourth and final attack primitive is fast memory access needed to trigger bit flips with Rowhammer attacks. Using the knowledge of the GPU cache hierarchy gained via probing the authors derive efficient access patterns to perform double-sided Rowhammering attacks…  Rowhammering  DRAM rows are composed of cells which store the value of a bit in a capacitor. The charge of a capacitor is transient, and therefore DRAM needs to be recharged within a precise interval (usually 64ms). Rowhammer is a software-based fault injection attack that can be considered a fallout of this DRAM property. By frequently activating specific rows an attacker can influence the charge in the capacitors of adjacent rows, making it possible to induce bit flips in a victim row without having access to its data. In a double-sided Rowhammer attack quick accesses to rows n-1 and n+1, impose high pressure on the capacitors in victim row n, triggering bit flips. “… our novel GPU-based side-channel attack provides us with information about contiguous physical memory regions in JavaScript, allowing us to perform double-sided Rowhammer on ARM devices in the browser.”  Mitigations  You could combine these primitives in a number of imaginative ways to construct different attacks, GLitch is but one end-to-end example. Eliminating known timers (e.g., disabling the EXT_DISJOINT_TIMER_QUERY) is still the best line of defence (though more timing strategies will likely be discovered). The WebGL2 getSyncParameter function can be disabled, and the clientWaitSync function could be replaced by a callback design. (This requires changes to the WebGL2 spec.). Stricter policies for memory reuse may also make it harder for an attacker to hammer valuable data. We showed that it is possible to perform advanced microarchitectural attacks directly from integrated GPUs found in almost all mobile devices… more alarming, these attacks can be launched from the browser. For example, we showed for the first time that with microarchitectural attacks from the GPU, an attacker can fully compromise a browser running on a mobile phone in less than 2 minutes… we hope our efforts make processor vendors more careful when embedding the next specialized unit into our commodity processors.\n"
     ]
    }
   ],
   "source": [
    "# Min length summary\n",
    "print(summaries[max_idx])"
   ]
  },
  {
   "cell_type": "code",
   "execution_count": 8,
   "metadata": {},
   "outputs": [
    {
     "data": {
      "text/plain": [
       "Index(['blog_id', 'summary', 'author_id', 'pdf_url', 'author_full_name',\n",
       "       'source_website', 'id', 'summary_length'],\n",
       "      dtype='object')"
      ]
     },
     "execution_count": 8,
     "metadata": {},
     "output_type": "execute_result"
    }
   ],
   "source": [
    "df['summary_length'] = lens\n",
    "df.columns"
   ]
  },
  {
   "cell_type": "markdown",
   "metadata": {},
   "source": [
    "***\n",
    "## Blog details\n",
    "\n",
    "Compute statistics on the (blog) authors."
   ]
  },
  {
   "cell_type": "code",
   "execution_count": 9,
   "metadata": {},
   "outputs": [
    {
     "data": {
      "text/plain": [
       "count         531\n",
       "unique          7\n",
       "top       ACOLYER\n",
       "freq          185\n",
       "Name: author_id, dtype: object"
      ]
     },
     "execution_count": 9,
     "metadata": {},
     "output_type": "execute_result"
    }
   ],
   "source": [
    "df['author_id'].describe()"
   ]
  },
  {
   "cell_type": "code",
   "execution_count": 10,
   "metadata": {},
   "outputs": [
    {
     "data": {
      "text/plain": [
       "array(['Adrian Colyer', 'Patrick Emami', 'Alexander Jung',\n",
       "       'Elvis Saravia', 'Hugo Larochelle', 'Shagun Sodhani',\n",
       "       'Joseph Cohen'], dtype=object)"
      ]
     },
     "execution_count": 10,
     "metadata": {},
     "output_type": "execute_result"
    }
   ],
   "source": [
    "# Unique blog authors\n",
    "df['author_full_name'].unique()"
   ]
  },
  {
   "cell_type": "code",
   "execution_count": 11,
   "metadata": {},
   "outputs": [
    {
     "data": {
      "text/plain": [
       "author_full_name\n",
       "Adrian Colyer      185\n",
       "Alexander Jung      86\n",
       "Elvis Saravia       16\n",
       "Hugo Larochelle     42\n",
       "Joseph Cohen        39\n",
       "Patrick Emami       41\n",
       "Shagun Sodhani     122\n",
       "Name: blog_id, dtype: int64"
      ]
     },
     "execution_count": 11,
     "metadata": {},
     "output_type": "execute_result"
    }
   ],
   "source": [
    "# Get distribution of blog authors\n",
    "blog_counts = df.groupby('author_full_name')['blog_id'].nunique()\n",
    "blog_counts"
   ]
  },
  {
   "cell_type": "code",
   "execution_count": 12,
   "metadata": {},
   "outputs": [
    {
     "data": {
      "text/plain": [
       "[Text(0, 0, 'Adrian Colyer'),\n",
       " Text(0, 0, 'Alexander Jung'),\n",
       " Text(0, 0, 'Elvis Saravia'),\n",
       " Text(0, 0, 'Hugo Larochelle'),\n",
       " Text(0, 0, 'Joseph Cohen'),\n",
       " Text(0, 0, 'Patrick Emami'),\n",
       " Text(0, 0, 'Shagun Sodhani')]"
      ]
     },
     "execution_count": 12,
     "metadata": {},
     "output_type": "execute_result"
    },
    {
     "data": {
      "image/png": "[encoded data removed]",
      "text/plain": [
       "<Figure size 432x288 with 1 Axes>"
      ]
     },
     "metadata": {
      "needs_background": "light"
     },
     "output_type": "display_data"
    }
   ],
   "source": [
    "# Plot author distribution\n",
    "blog_counts_df = blog_counts.to_frame()\n",
    "blog_counts_df['author'] = blog_counts_df.index\n",
    "blog_counts_df = blog_counts_df.rename(columns={\"blog_id\": \"blog_counts\"})\n",
    "ax = sns.barplot(x=\"author\", y=\"blog_counts\", data=blog_counts_df)\n",
    "ax.set_xticklabels(ax.get_xticklabels(),rotation = 30)"
   ]
  },
  {
   "cell_type": "code",
   "execution_count": 13,
   "metadata": {},
   "outputs": [
    {
     "data": {
      "text/plain": [
       "author_full_name\n",
       "Adrian Colyer      1\n",
       "Alexander Jung     1\n",
       "Elvis Saravia      1\n",
       "Hugo Larochelle    1\n",
       "Joseph Cohen       1\n",
       "Patrick Emami      1\n",
       "Shagun Sodhani     1\n",
       "Name: source_website, dtype: int64"
      ]
     },
     "execution_count": 13,
     "metadata": {},
     "output_type": "execute_result"
    }
   ],
   "source": [
    "# Get distribution of blog websites\n",
    "blog_counts = df.groupby('author_full_name')['source_website'].nunique()\n",
    "blog_counts \n",
    "\n",
    "# 1-to-1 relationship between author and website "
   ]
  },
  {
   "cell_type": "code",
   "execution_count": 14,
   "metadata": {},
   "outputs": [
    {
     "data": {
      "text/plain": [
       "author_full_name\n",
       "Adrian Colyer                      [https://blog.acolyer.org/about/]\n",
       "Alexander Jung                     [https://github.com/aleju/papers]\n",
       "Elvis Saravia       [https://github.com/dair-ai/nlp_paper_summaries]\n",
       "Hugo Larochelle    [https://www.shortscience.org/user?name=hlaroc...\n",
       "Joseph Cohen       [https://www.shortscience.org/user?name=joecohen]\n",
       "Patrick Emami              [https://pemami4911.github.io/index.html]\n",
       "Shagun Sodhani      [https://github.com/shagunsodhani/papers-I-read]\n",
       "Name: source_website, dtype: object"
      ]
     },
     "execution_count": 14,
     "metadata": {},
     "output_type": "execute_result"
    }
   ],
   "source": [
    "df.groupby('author_full_name')['source_website'].unique()"
   ]
  },
  {
   "cell_type": "code",
   "execution_count": 15,
   "metadata": {},
   "outputs": [
    {
     "data": {
      "text/html": [
       "<div>\n",
       "<style scoped>\n",
       "    .dataframe tbody tr th:only-of-type {\n",
       "        vertical-align: middle;\n",
       "    }\n",
       "\n",
       "    .dataframe tbody tr th {\n",
       "        vertical-align: top;\n",
       "    }\n",
       "\n",
       "    .dataframe thead tr th {\n",
       "        text-align: left;\n",
       "    }\n",
       "\n",
       "    .dataframe thead tr:last-of-type th {\n",
       "        text-align: right;\n",
       "    }\n",
       "</style>\n",
       "<table border=\"1\" class=\"dataframe\">\n",
       "  <thead>\n",
       "    <tr>\n",
       "      <th></th>\n",
       "      <th colspan=\"2\" halign=\"left\">summary_length</th>\n",
       "    </tr>\n",
       "    <tr>\n",
       "      <th></th>\n",
       "      <th>mean</th>\n",
       "      <th>std</th>\n",
       "    </tr>\n",
       "    <tr>\n",
       "      <th>author_full_name</th>\n",
       "      <th></th>\n",
       "      <th></th>\n",
       "    </tr>\n",
       "  </thead>\n",
       "  <tbody>\n",
       "    <tr>\n",
       "      <th>Adrian Colyer</th>\n",
       "      <td>1055.502703</td>\n",
       "      <td>355.616032</td>\n",
       "    </tr>\n",
       "    <tr>\n",
       "      <th>Alexander Jung</th>\n",
       "      <td>641.069767</td>\n",
       "      <td>274.311021</td>\n",
       "    </tr>\n",
       "    <tr>\n",
       "      <th>Elvis Saravia</th>\n",
       "      <td>938.500000</td>\n",
       "      <td>205.163025</td>\n",
       "    </tr>\n",
       "    <tr>\n",
       "      <th>Hugo Larochelle</th>\n",
       "      <td>422.595238</td>\n",
       "      <td>212.739857</td>\n",
       "    </tr>\n",
       "    <tr>\n",
       "      <th>Joseph Cohen</th>\n",
       "      <td>90.230769</td>\n",
       "      <td>99.459450</td>\n",
       "    </tr>\n",
       "    <tr>\n",
       "      <th>Patrick Emami</th>\n",
       "      <td>428.268293</td>\n",
       "      <td>192.732071</td>\n",
       "    </tr>\n",
       "    <tr>\n",
       "      <th>Shagun Sodhani</th>\n",
       "      <td>490.139344</td>\n",
       "      <td>189.268156</td>\n",
       "    </tr>\n",
       "  </tbody>\n",
       "</table>\n",
       "</div>"
      ],
      "text/plain": [
       "                 summary_length            \n",
       "                           mean         std\n",
       "author_full_name                           \n",
       "Adrian Colyer       1055.502703  355.616032\n",
       "Alexander Jung       641.069767  274.311021\n",
       "Elvis Saravia        938.500000  205.163025\n",
       "Hugo Larochelle      422.595238  212.739857\n",
       "Joseph Cohen          90.230769   99.459450\n",
       "Patrick Emami        428.268293  192.732071\n",
       "Shagun Sodhani       490.139344  189.268156"
      ]
     },
     "execution_count": 15,
     "metadata": {},
     "output_type": "execute_result"
    }
   ],
   "source": [
    "# Get the average length per author\n",
    "author_lens = df.groupby('author_full_name').agg({'summary_length': ['mean', 'std']})\n",
    "author_lens"
   ]
  },
  {
   "cell_type": "code",
   "execution_count": 39,
   "metadata": {},
   "outputs": [],
   "source": [
    "# Double check summary content is identical to blog\n",
    "samples = []\n",
    "\n",
    "for author in df['author_full_name'].unique():\n",
    "    author_rows = df.loc[df['author_full_name'] == author]\n",
    "    sample = author_rows.sample(1)\n",
    "    samples.append((author, sample['source_website'], sample['summary'], sample['pdf_url'])) "
   ]
  },
  {
   "cell_type": "code",
   "execution_count": 44,
   "metadata": {},
   "outputs": [
    {
     "name": "stdout",
     "output_type": "stream",
     "text": [
      "Adrian Colyer\n",
      "http://homes.cs.washington.edu/~pedrod/papers/kdd00.pdf\n",
      "https://blog.acolyer.org/about/\n",
      "Mining High-Speed Data Streams – Domingos & Hulten 2000  This paper won a ‘test of time’ award at KDD’15 as an ‘outstanding paper from a past KDD Conference beyond the last decade that has had an important impact on the data mining community.’  Here’s what the test-of-time committee have to say about it:  This paper proposes a decision tree learner for data streams, the Hoeffding Tree algorithm, which comes with the guarantee that the learned decision tree is asymptotically nearly identical to that of a non-incremental learner using infinitely many examples. This work constitutes a significant step in developing methodology suitable for modern ‘big data’ challenges and has initiated a lot of follow-up research. The Hoeffding Tree algorithm has been covered in various textbooks and is available in several public domain tools, including the WEKA Data Mining platform. The goal is to create a knowledge discovery system that can cope with large volumes of data (perhaps an unbounded stream) without needing to fit everything in memory (40MB was the allotted amount used in their evaluation tests – remember this was 2000). Ideally, we would like to have KDD systems that operate continuously and indefinitely, incorporating examples as they arrive, and never losing potentially valuable information. Such desiderata are fulfilled by incremental learning methods (also known as online, successive or sequential methods), on which a substantial literature exists.\n",
      "------------------------------\n",
      "Patrick Emami\n",
      "http://arxiv.org/pdf/1507.00814\n",
      "https://pemami4911.github.io/index.html\n",
      "“Optimism in the face of uncertainty”, the mantra of the Upper-Confidence Bound 1 algorithm, becomes impractical to follow when the action space is continuous. Hence, most approaches default to using epsilon-greedy exploration. This paper proposes a scalable and efficient method for assigning exploration bonuses in large RL problems with complex observations. A model of the task dynamics is learned to assess the novelty of a new state. As the ability to model the dynamics of a particular state-action pair improves, the “understanding” of the state is thus better and hence its novelty is lower. This circumvents the need to explicitly maintain visitation frequencies for states and state-action pairs in a table.\n",
      "------------------------------\n",
      "Alexander Jung\n",
      "https://arxiv.org/pdf/1607.08022\n",
      "https://github.com/aleju/papers\n",
      "What  Style transfer between images works - in its original form - by iteratively making changes to a content image, so that its style matches more and more the style of a chosen style image. That iterative process is very slow. Alternatively, one can train a single feed-forward generator network to apply a style in one forward pass. The network is trained on a dataset of input images and their stylized versions (stylized versions can be generated using the iterative approach). So far, these generator networks were much faster than the iterative approach, but their quality was lower. They describe a simple change to these generator networks to increase the image quality (up to the same level as the iterative approach).\n",
      "------------------------------\n",
      "Elvis Saravia\n",
      "https://arxiv.org/pdf/1906.08237\n",
      "https://github.com/dair-ai/nlp_paper_summaries\n",
      "Two pretraining objectives that have been successful for pretraining neural networks used in transfer learning NLP are autoregressive (AR) language modeling and autoencoding (AE). Autoregressive language modeling is not able to model deep bidirectional context which has recently been found to be effective in several downstream NLP tasks such as sentiment analysis and question answering. On the other hand, autoencoding based pretraining aims to reconstruct original data from corrupted data. A popular example of such modeling is used in BERT, an effective state-of-the-art technique used to address several NLP tasks. One advantage of models like BERT is that bidirectional contexts can be used in the reconstruction process, something that AR language modeling lacks. However, BERT partially masks the input (i.e. tokens) during pretraining which results in a pre-training-finetune discrepancy.\n",
      "------------------------------\n",
      "Hugo Larochelle\n",
      "http://arxiv.org/pdf/1602.06725\n",
      "https://www.shortscience.org/user?name=hlarochelle\n",
      "This paper explores the use of so-called Monte Carlo objectives for training directed generative models with latent variables. Monte Carlo objectives take the form of the logarithm of a Monte Carlo estimate (i.e. an average over samples) of the marginal probability $P(x)$. One important motivation for using Monte Carlo objectives is that they can be shown (see the Importance Weighted Variational Autoencoder paper  [ref]  and my notes on it) to correspond to bounds on the true likelihood of the model, and one can tighten the bound simply by drawing more samples in the Monte Carlo objective. Currently, the most successful application of Monte Carlo objectives is based on an importance sampling estimate, which involves training a proposal distribution $Q(h|x)$ in addition to the model $P(x,h)$. This paper considers the problem of training with gradient descent on such objectives, in the context of a model to which the reparametrization trick cannot be used (e.g. for discrete latent variables). They analyze the sources of variance in the estimation of the gradients (see Equation 5) and propose a very simple approach to reducing the variance of a sampling-based estimator of these gradients.\n",
      "------------------------------\n",
      "Shagun Sodhani\n",
      "https://arxiv.org/pdf/1706.09789.pdf\n",
      "https://github.com/shagunsodhani/papers-I-read\n",
      "The paper proposes a two-stage synthesis network that can perform transfer learning for the task of machine comprehension. The problem is the following:  We have a domain DS for which we have labelled dataset of question-answer pairs and another domain DT for which we do not have any labelled dataset. We use the data for domain DS to train SynNet and use that to generate synthetic question-answer pairs for domain DT. Now we can train a machine comprehension model M on DS and finetune using the synthetic data for DT. SynNet  Works in two stages:  Answer Synthesis - Given a text paragraph, generate an answer. Question Synthesis - Given a text paragraph and an answer, generate a question.\n",
      "------------------------------\n",
      "Joseph Cohen\n",
      "http://arxiv.org/pdf/1409.4842\n",
      "https://www.shortscience.org/user?name=joecohen\n",
      "This paper introduces the GoogLeNet Inception Architecture The major part of this paper is the *Inception Module* which takes convolutions at multiple layers and provides a good receptive field as well as reducing the overall number of parameters. ! [Inception Module]( [url]\n",
      "------------------------------\n"
     ]
    }
   ],
   "source": [
    "for (author, website, summary, pdf_url) in samples:\n",
    "    print(author)\n",
    "    print(pdf_url[0])\n",
    "    print(website[0])\n",
    "    print(\" \".join(summary[0][:6]))\n",
    "    print(\"-\"*30)"
   ]
  },
  {
   "cell_type": "code",
   "execution_count": null,
   "metadata": {},
   "outputs": [],
   "source": []
  }
 ],
 "metadata": {
  "kernelspec": {
   "display_name": "Python 3",
   "language": "python",
   "name": "python3"
  },
  "language_info": {
   "codemirror_mode": {
    "name": "ipython",
    "version": 3
   },
   "file_extension": ".py",
   "mimetype": "text/x-python",
   "name": "python",
   "nbconvert_exporter": "python",
   "pygments_lexer": "ipython3",
   "version": "3.8.3"
  }
 },
 "nbformat": 4,
 "nbformat_minor": 5
}
